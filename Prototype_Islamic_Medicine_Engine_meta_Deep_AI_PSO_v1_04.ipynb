{
  "nbformat": 4,
  "nbformat_minor": 0,
  "metadata": {
    "colab": {
      "name": "Prototype_Islamic_Medicine_Engine_meta_Deep_AI_PSO_v1_04.ipynb",
      "provenance": []
    },
    "kernelspec": {
      "name": "python3",
      "display_name": "Python 3"
    },
    "accelerator": "GPU"
  },
  "cells": [
    {
      "cell_type": "markdown",
      "metadata": {
        "id": "FY6uBc_ZwrLq"
      },
      "source": [
        "<p><img alt=\"Colaboratory logo\" height=\"45px\" src=\"/img/colab_favicon.ico\" align=\"left\" hspace=\"10px\" vspace=\"0px\"></p>\n",
        "\n",
        "<h1>Islamic Medicine Engine Based Al-Qur'an & Hadith using meta Deep AI PSO</h1>\n"
      ]
    },
    {
      "cell_type": "code",
      "metadata": {
        "id": "ZxyDQ1VM34io",
        "outputId": "eb188b94-1003-4763-874a-76e451357ba3",
        "colab": {
          "base_uri": "https://localhost:8080/"
        }
      },
      "source": [
        "# ============================\n",
        "# By: Imam Cholissodin | imamcs@ub.ac.id\n",
        "# Dosen Fakultas Ilmu Komputer (Filkom)\n",
        "# Universitas Brawijaya (UB)\n",
        "# Tgl 5 November 2020, \n",
        "# Semoga Bermanfaat. Aamiin :D\n",
        "# ====================================\n",
        "\n",
        "# Kode Program v1.04: \n",
        "# Prototype Islamic Medicine Engine Based Al-Qur'an & Hadith using meta Deep AI PSO\n",
        "# \n",
        "# The 2nd International Conferences on Engineering, Technology and Social Science (ICONETOS 2020), \n",
        "# “Interdisciplinary Synergy in the COVID-19 Era: A Scientific Perspective”, \n",
        "\n",
        "# Malang October 31st 2020, Online seminar (di Zoom)\n",
        "# \n",
        "\n",
        "from google.colab import drive\n",
        "drive.mount('/content/drive')"
      ],
      "execution_count": 2,
      "outputs": [
        {
          "output_type": "stream",
          "text": [
            "Mounted at /content/drive\n"
          ],
          "name": "stdout"
        }
      ]
    },
    {
      "cell_type": "code",
      "metadata": {
        "id": "iNy10E5i4jIQ",
        "outputId": "6e7f76c0-2221-4b7e-d9d2-3f939510ed53",
        "colab": {
          "base_uri": "https://localhost:8080/"
        }
      },
      "source": [
        "# Buat Folder, misal \"Prototype_Islamic_Medicine_Engine_For_Covid_19\" di Gdrive\n",
        "import os\n",
        "os.chdir(\"/content/drive/My Drive\")\n",
        "if not os.path.exists('Prototype_Islamic_Medicine_Engine_For_Covid_19'):\n",
        "  os.makedirs('Prototype_Islamic_Medicine_Engine_For_Covid_19')\n",
        "  #print('Path blm ada')\n",
        "else:\n",
        "  print('Path sdh ada')\n",
        "os.chdir(\"/content/drive/My Drive/Prototype_Islamic_Medicine_Engine_For_Covid_19\")\n",
        "!pwd\n",
        "\n",
        "file_input  \t= '/content/drive/My Drive/Prototype_Islamic_Medicine_Engine_For_Covid_19/dataset.csv'\n",
        "dir_output \t= '/content/drive/My Drive/Prototype_Islamic_Medicine_Engine_For_Covid_19/'\n",
        "\n",
        "!ls -l -a --block-size=K\n",
        "\n",
        "# link dataset v0.0.1 di Gdrive\n",
        "# https://drive.google.com/drive/folders/1Xq78OTcH0-eUS3MgsRcxKY5wiOPWLeKA?usp=sharing"
      ],
      "execution_count": 3,
      "outputs": [
        {
          "output_type": "stream",
          "text": [
            "Path sdh ada\n",
            "/content/drive/My Drive/Prototype_Islamic_Medicine_Engine_For_Covid_19\n",
            "total 41K\n",
            "-rw------- 1 root root 11K Nov  5 05:20 dataset.csv\n",
            "-rw------- 1 root root 30K Nov  5 05:20 dataset-v0.0.1.xlsx\n"
          ],
          "name": "stdout"
        }
      ]
    },
    {
      "cell_type": "code",
      "metadata": {
        "id": "SG_cZXyk9sBB"
      },
      "source": [
        "#!pip install mpu"
      ],
      "execution_count": null,
      "outputs": []
    },
    {
      "cell_type": "code",
      "metadata": {
        "id": "Xg_QgEWv5Aho",
        "outputId": "d0df4b23-218c-40b3-f5c0-581166de82f1",
        "colab": {
          "base_uri": "https://localhost:8080/"
        }
      },
      "source": [
        "# Read CSV file\n",
        "# with open(file_input) as fp:\n",
        "#     #reader = csv.reader(fp, delimiter=\",\", quotechar='\"')\n",
        "#     reader = csv.reader(fp, delimiter=\",\")\n",
        "#     # next(reader, None)  # skip the headers\n",
        "#     data_read = [row for row in reader]\n",
        "# print(data_read)\n",
        "\n",
        "# import mpu.io\n",
        "# data = mpu.io.read(file_input, delimiter=',', quotechar='\"', skiprows=None)\n",
        "\n",
        "import pandas as pd\n",
        "raw_df = pd.read_excel(\"dataset-v0.0.1.xlsx\", sheet_name=\"Sheet1\")\n",
        "print(raw_df.head(10))"
      ],
      "execution_count": 4,
      "outputs": [
        {
          "output_type": "stream",
          "text": [
            "   No  ...   Referensi Ayat ke .. atau HR ... di kitab apa ..\n",
            "0   1  ...  HR. Bukhori no 5688 ( kitab shohih Bukhori) HR...\n",
            "1   2  ...  QS. An-Nahl (16) 68-69 HR. Bukhari no. 5684 ( ...\n",
            "2   3  ...  HR. Tirmidi Sunan  Tirmidzi 1851  ( kitab Tibb...\n",
            "3   4  ...  Syarah Shohih Bukhari Kitab: Pengobatan Bab : ...\n",
            "4   5  ...  Ibnul Qoyimm Al-Jauzi, Zadul Maad bab Thibun N...\n",
            "5   6  ...  ibnul Qoyimm Al-Jauzi, Zadul Maad juz 4 hal. 3...\n",
            "6   7  ...  al- Hafidz Abi Abdillah muhammad bin Ahmad a- ...\n",
            "7   8  ...                                     QS Al-Insan:17\n",
            "8   9  ...  Ali ibn Abu Bakr al-Haythami Majma' az-Zawaid ...\n",
            "9  10  ...                                                NaN\n",
            "\n",
            "[10 rows x 5 columns]\n"
          ],
          "name": "stdout"
        }
      ]
    },
    {
      "cell_type": "code",
      "metadata": {
        "id": "2pFibiVL8Vo8",
        "outputId": "0fb89f92-0d75-4e15-9ea7-284b0cae673f",
        "colab": {
          "base_uri": "https://localhost:8080/"
        }
      },
      "source": [
        "#Hapus df yang tidak ada referensi dari Qur'an dan Hadist, yaitu yang bernilai kososng atau null atau nan\n",
        "df_clean = raw_df.dropna(axis=0, subset=['Referensi Ayat ke .. atau HR ... di kitab apa ..'])\n",
        "print(df_clean)"
      ],
      "execution_count": 65,
      "outputs": [
        {
          "output_type": "stream",
          "text": [
            "    No  ...   Referensi Ayat ke .. atau HR ... di kitab apa ..\n",
            "0    1  ...  HR. Bukhori no 5688 ( kitab shohih Bukhori) HR...\n",
            "1    2  ...  QS. An-Nahl (16) 68-69 HR. Bukhari no. 5684 ( ...\n",
            "2    3  ...  HR. Tirmidi Sunan  Tirmidzi 1851  ( kitab Tibb...\n",
            "3    4  ...  Syarah Shohih Bukhari Kitab: Pengobatan Bab : ...\n",
            "4    5  ...  Ibnul Qoyimm Al-Jauzi, Zadul Maad bab Thibun N...\n",
            "5    6  ...  ibnul Qoyimm Al-Jauzi, Zadul Maad juz 4 hal. 3...\n",
            "6    7  ...  al- Hafidz Abi Abdillah muhammad bin Ahmad a- ...\n",
            "7    8  ...                                     QS Al-Insan:17\n",
            "8    9  ...  Ali ibn Abu Bakr al-Haythami Majma' az-Zawaid ...\n",
            "10  11  ...  “Rasulullah SAW pernah menemukan seorang laki-...\n",
            "12  13  ...  al- Hafidz Abi Abdillah muhammad bin Ahmad a- ...\n",
            "14  15  ...  Nabi Yunus dan Labu “Maka dia ditelan ikan bes...\n",
            "15  16  ...  Syaikh Abu Al Ula Muhammad Abdurrahman bin Abd...\n",
            "16  17  ...                                  QS. Al-Baqorah:61\n",
            "\n",
            "[14 rows x 5 columns]\n"
          ],
          "name": "stdout"
        }
      ]
    },
    {
      "cell_type": "code",
      "metadata": {
        "id": "nqs_2SZv8VNS",
        "outputId": "03809ae4-1e7a-4e2e-af93-aba785cf50f6",
        "colab": {
          "base_uri": "https://localhost:8080/"
        }
      },
      "source": [
        "# memilih kolom untuk pengolahan data utama, yaitu kolom \n",
        "# idx 1 > \"Nama Herbal di Al-Qur'an atau di Hadist\", diberikan alias \"Herb\"\n",
        "# idx 2 > \"Dapat Mengobati Gejala atau Sakit Apa Saja\"\n",
        "# idx 3 > \"Manfaat tambahn yg di Sebukan dari Web atau Sumber Lainnya\"\n",
        "#\n",
        "# utk idx 2 dan idx 3 dimerger jadi satu, diberikan alias, \"Key\"\n",
        "\n",
        "# df_main = df_clean[['a', 'b']]\n",
        "df_main = df_clean.iloc[:, 1:4].copy()\n",
        "print(df_main)\n",
        "\n",
        "print()\n",
        "\n",
        "# Membuat merger idx 2 dan idx 3, lalu me-rename nama kolom menjadi alias \"Key\"\n",
        "df_main_alias = df_main.copy()\n",
        "# df_main_alias.iloc[:,1] = df_clean.iloc[:,2] +', '+ df_clean.iloc[:,3]\n",
        "\n",
        "# df_main_alias.iloc[:,1].update(df_main_alias.iloc[:,2])\n",
        "\n",
        "df_main_alias.columns = ['Herb', 'Keys1', 'Keys2']\n",
        "\n",
        "# print()\n",
        "# print(df_main_alias['Keys2'])\n",
        "\n",
        "# df_main_alias.iloc[:,1] = df_clean.iloc[:,2:3].apply(lambda x: ','.join(x), axis=1)\n",
        "\n",
        "# df_main_alias['Keys'] = df_main_alias[['Keys1', 'Keys2']].apply(lambda x: ','.join(str(x)), axis=1)\n",
        "\n",
        "df_main_alias['Keys']=df_main_alias['Keys1'].fillna('_') + ', ' + df_main_alias['Keys2'].fillna('_')\n",
        "\n",
        "# df_main_alias['period'] = df_main_alias[['Year', 'quarter']].apply(lambda x: ','.join(x), axis=1)\n",
        "# df_main_alias = df_main_alias.drop(df_main_alias.columns[[0, 1, 2]], axis=1) \n",
        "\n",
        "df_main_alias = df_main_alias.drop(df_main_alias.columns[[1,2]], axis=1) \n",
        "df_main_alias = df_main_alias.reset_index(drop=True)\n",
        "\n",
        "df_main_alias.columns = ['Herb', 'Keys']\n",
        "\n",
        "# df_main_alias.str.lower()\n",
        "# df_main_alias = df_main_alias['Herb','Keys'].apply(lambda x: x.lower())\n",
        "df_main_alias = df_main_alias.apply(lambda x: x.astype(str).str.lower())\n",
        "\n",
        "\n",
        "df_main_alias['Keys'] = df_main_alias['Keys'].map(lambda x: x.lstrip('_, ').rstrip(', _'))\n",
        "\n",
        "# print(df_main_alias.iloc[:,0])\n",
        "print()\n",
        "# print(df_main_alias.iloc[:,1])\n",
        "print()\n",
        "print(df_main_alias)\n",
        "# print(df_main_alias.iloc[:,2])\n",
        "print()\n",
        "print(df_main_alias.iloc[10,1])\n",
        "print(df_main_alias.iloc[13,1])"
      ],
      "execution_count": 93,
      "outputs": [
        {
          "output_type": "stream",
          "text": [
            "              Nama Herbal di Al-Qur'an atau di Hadist  ... Manfaat tambahn yg di Sebukan dari Web atau Sumber Lainnya\n",
            "0                                        Jintan Hitam  ...  Menetralisir racun, nutrisi bagi ibu hamil dan...        \n",
            "1                                                Madu  ...                  mengobati luka-luka luar di tubuh        \n",
            "2                                   Minyak Kayu Putih  ...                                                NaN        \n",
            "3   Dahan Kayu India (Kayu Gaharu/ Kemenyan/ Dupa ...  ...                                                NaN        \n",
            "4                                              Kismis  ...                                                NaN        \n",
            "5                                               Kurma  ...  Infeksi, darah tinggi, menjadi metabolisme ala...        \n",
            "6                                              Delima  ...  batuk, menteralisir perut, memperbaiki pencern...        \n",
            "7                                     Jahe (Zanjabil)  ...  menghangatkan tubuh, membantu pencernaan, melu...        \n",
            "8                                       Minyak Zaitun  ...  mengurangi peradangan sendi, memberantas koles...        \n",
            "10                                        Lidah Buaya  ...                                                NaN        \n",
            "12                                       Daging Hewan  ...                                                NaN        \n",
            "14                                               Labu  ...  menghilangkan haus, dehidrasi, menstabilkan da...        \n",
            "15                                           Semangka  ...                                                NaN        \n",
            "16                            Bawang Putih (at-Tsaum)  ...             anti oksidan, anti kanker, anti radang        \n",
            "\n",
            "[14 rows x 3 columns]\n",
            "\n",
            "\n",
            "\n",
            "                                                 Herb                                               Keys\n",
            "0                                        jintan hitam  semua penyakit, meningkatkan imun, daya ingat,...\n",
            "1                                                madu  obat dari berbagai penyakit, mengobati luka-lu...\n",
            "2                                   minyak kayu putih  masuk angin, sakit kepala, pilek flu, nyeri ot...\n",
            "3   dahan kayu india (kayu gaharu/ kemenyan/ dupa ...  gangguan sistem pernafasan, penyakit tenggorok...\n",
            "4                                              kismis  menghilangkan capek capek, mengencangkan syara...\n",
            "5                                               kurma  penawar racun di tubuh, infeksi, darah tinggi,...\n",
            "6                                              delima  membersihkan hati, membersihkan perut, lambung...\n",
            "7                                     jahe (zanjabil)  gangguan hati, vitalitas pria, gastritis pada ...\n",
            "8                                       minyak zaitun  menyembuhkan wasir, menguatkan syahwat, menyeh...\n",
            "9                                         lidah buaya  sakit mata (perasan air lidah buaya di oles at...\n",
            "10                                       daging hewan     kesuburan, menguatkan badan, mencerahkan kulit\n",
            "11                                               labu  mengobati hati yang sedih, menghilangkan haus,...\n",
            "12                                           semangka                                     sumber hidrasi\n",
            "13                            bawang putih (at-tsaum)             anti oksidan, anti kanker, anti radang\n",
            "\n",
            "kesuburan, menguatkan badan, mencerahkan kulit\n",
            "anti oksidan, anti kanker, anti radang\n"
          ],
          "name": "stdout"
        }
      ]
    },
    {
      "cell_type": "code",
      "metadata": {
        "id": "6l05SU05lT9U",
        "outputId": "42f8c955-3a2c-4db1-cc58-e90dee706eca",
        "colab": {
          "base_uri": "https://localhost:8080/"
        }
      },
      "source": [
        "# !pip install nltk"
      ],
      "execution_count": 100,
      "outputs": [
        {
          "output_type": "stream",
          "text": [
            "Requirement already satisfied: nltk in /usr/local/lib/python3.6/dist-packages (3.2.5)\n",
            "Requirement already satisfied: six in /usr/local/lib/python3.6/dist-packages (from nltk) (1.15.0)\n"
          ],
          "name": "stdout"
        }
      ]
    },
    {
      "cell_type": "code",
      "metadata": {
        "id": "nZ56hOxOj3HQ",
        "outputId": "a0b20d0e-2ef4-4f6a-b09a-8844faad121d",
        "colab": {
          "base_uri": "https://localhost:8080/"
        }
      },
      "source": [
        "import nltk\n",
        "# nltk.download('punkt')\n",
        "import string\n",
        "\n",
        "# tokenisasi Keys\n",
        "df_token = df_main_alias.copy()\n",
        "print(df_token)\n",
        "print()\n",
        "\n",
        "# df_token['Keys'] = df_token['Keys'].map(lambda x: x.strip(','))\n",
        "df_token['Keys'] = df_token['Keys'].replace(',', ' ', regex=True)\n",
        "df_token['Keys'] = df_token['Keys'].replace(r\"\\(\", ' ', regex=True)\n",
        "df_token['Keys'] = df_token['Keys'].replace(r\"\\)\", ' ', regex=True)\n",
        "# df_token['Keys'] = df_token['Keys'].replace(r\"\\-\", '', regex=True)\n",
        "df_token['Keys'] = df_token['Keys'].replace(\" di \", ' ', regex=True)\n",
        "df_token['Keys'] = df_token['Keys'].replace(\" dan \", ' ', regex=True)\n",
        "df_token['Keys'] = df_token['Keys'].replace(\" dari \", ' ', regex=True)\n",
        "df_token['Keys'] = df_token['Keys'].replace(\" bagi \", ' ', regex=True)\n",
        "df_token['Keys'] = df_token['Keys'].replace(\" atau \", ' ', regex=True)\n",
        "df_token['Keys'] = df_token['Keys'].replace(\"berbagai\", ' ', regex=True)\n",
        "df_token['Keys'] = df_token['Keys'].replace(\"menyehatakn\", 'menyehatkan', regex=True)\n",
        "\n",
        "\n",
        "# df_token['Keys'] = df_token['Keys'].replace(r\"\\(.*\\)\",\"\")\n",
        "# df_token['Keys'] = df_token['Keys'].replace(r\"\\s*\\([^()]*\\)\",\"\").str.strip()\n",
        "\n",
        "# df_token['Keys'] = df_token['Keys'].apply(lambda x: x.replace(r\"\\s*\\([^()]*\\)\",\"\"))\n",
        "\n",
        "# df_token['Keys'] = df_token['Keys'].replace('[{}]'.format(string.punctuation), '')\n",
        "\n",
        "# df_token['Keys'] = df_token['Keys'].unique()\n",
        "# df_token['Keys'].str.split(' \\s*', expand=True).stack().unique()\n",
        "\n",
        "# distinct token\n",
        "df_token['Keys'] = df_token['Keys'].apply(lambda x: ' '.join(set(x.split(' '))))\n",
        "\n",
        "# lakukan tokenisasi\n",
        "df_token['Keys'] = df_token.apply(lambda row: nltk.word_tokenize(row['Keys']), axis=1)\n",
        "print(df_token)\n",
        "print(df_token.iloc[1,1])\n",
        "print(df_token.iloc[13,1])\n",
        "\n",
        "print()\n",
        "\n",
        "# df_token['Keys'] = df_token['Keys'].unique()\n",
        "# print(df_token)"
      ],
      "execution_count": 160,
      "outputs": [
        {
          "output_type": "stream",
          "text": [
            "                                                 Herb                                               Keys\n",
            "0                                        jintan hitam  semua penyakit, meningkatkan imun, daya ingat,...\n",
            "1                                                madu  obat dari berbagai penyakit, mengobati luka-lu...\n",
            "2                                   minyak kayu putih  masuk angin, sakit kepala, pilek flu, nyeri ot...\n",
            "3   dahan kayu india (kayu gaharu/ kemenyan/ dupa ...  gangguan sistem pernafasan, penyakit tenggorok...\n",
            "4                                              kismis  menghilangkan capek capek, mengencangkan syara...\n",
            "5                                               kurma  penawar racun di tubuh, infeksi, darah tinggi,...\n",
            "6                                              delima  membersihkan hati, membersihkan perut, lambung...\n",
            "7                                     jahe (zanjabil)  gangguan hati, vitalitas pria, gastritis pada ...\n",
            "8                                       minyak zaitun  menyembuhkan wasir, menguatkan syahwat, menyeh...\n",
            "9                                         lidah buaya  sakit mata (perasan air lidah buaya di oles at...\n",
            "10                                       daging hewan     kesuburan, menguatkan badan, mencerahkan kulit\n",
            "11                                               labu  mengobati hati yang sedih, menghilangkan haus,...\n",
            "12                                           semangka                                     sumber hidrasi\n",
            "13                            bawang putih (at-tsaum)             anti oksidan, anti kanker, anti radang\n",
            "\n",
            "                                                 Herb                                               Keys\n",
            "0                                        jintan hitam  [imun, daya, ingat, bayinya, menetralisir, sem...\n",
            "1                                                madu  [tubuh, obat, luar, luka-luka, mengobati, peny...\n",
            "2                                   minyak kayu putih  [perut, menyehatkan, persendian, sakit, masuk,...\n",
            "3   dahan kayu india (kayu gaharu/ kemenyan/ dupa ...  [kolesterol, muntah, demam, kanker, mabuk, ham...\n",
            "4                                              kismis  [kanker, menanbah, menghilangkan, jantung, dah...\n",
            "5                                               kurma  [racun, tubuh, darah, penawar, alami, tinggi, ...\n",
            "6                                              delima  [muntah, wawas, menguatkan, menanbah, menghila...\n",
            "7                                     jahe (zanjabil)  [dijadikan, udara, penyumbatan, celak, dimakan...\n",
            "8                                       minyak zaitun  [menyehatkan, mengurangi, kolesterol, kanker, ...\n",
            "9                                         lidah buaya  [dibalut, sakit, perasan, oles, air, buaya, li...\n",
            "10                                       daging hewan  [menguatkan, mencerahkan, kesuburan, badan, ku...\n",
            "11                                               labu  [menstabilkan, dehidrasi, panas, sedih, haus, ...\n",
            "12                                           semangka                                  [sumber, hidrasi]\n",
            "13                            bawang putih (at-tsaum)                    [radang, kanker, anti, oksidan]\n",
            "['tubuh', 'obat', 'luar', 'luka-luka', 'mengobati', 'penyakit']\n",
            "['radang', 'kanker', 'anti', 'oksidan']\n",
            "\n"
          ],
          "name": "stdout"
        }
      ]
    },
    {
      "cell_type": "code",
      "metadata": {
        "id": "8KEeUIMt580W"
      },
      "source": [
        "# User memasukkan nama gejala\n",
        "# gejala = 'masuk angin', 'gangguan sistem pernafasan'\n",
        "gejala = ['masuk angin', 'gangguan sistem pernafasan']\n",
        "# print(gejala.translate(None,\"[]'\").split(','))\n",
        "# flatten(gejala)\n",
        "\n"
      ],
      "execution_count": 196,
      "outputs": []
    },
    {
      "cell_type": "code",
      "metadata": {
        "id": "BOfw4feVxrXt"
      },
      "source": [
        "# !pip install fuzzywuzzy\n",
        "# !pip install python-Levenshtein"
      ],
      "execution_count": null,
      "outputs": []
    },
    {
      "cell_type": "code",
      "metadata": {
        "id": "3ALsPMyK58vh",
        "outputId": "9316043a-44d3-4d81-bbb8-11c2dfde1268",
        "colab": {
          "base_uri": "https://localhost:8080/"
        }
      },
      "source": [
        "from fuzzywuzzy import process, fuzz\n",
        "\n",
        "# process.extract('kancer', df_token.iloc[13,1], scorer=fuzz.token_sort_ratio)\n",
        "print()\n",
        "score_sort = process.extract('masuk angin', df_token.iloc[13,1], scorer=fuzz.token_set_ratio)\n",
        "print(score_sort)"
      ],
      "execution_count": 202,
      "outputs": [
        {
          "output_type": "stream",
          "text": [
            "\n",
            "[('anti', 40), ('radang', 35), ('kanker', 35), ('oksidan', 22)]\n"
          ],
          "name": "stdout"
        }
      ]
    },
    {
      "cell_type": "code",
      "metadata": {
        "id": "zk13NMw2zNkp",
        "outputId": "760d5680-b923-4f88-e7e6-a1068b3245b7",
        "colab": {
          "base_uri": "https://localhost:8080/"
        }
      },
      "source": [
        "print(score_sort[0][1])"
      ],
      "execution_count": 178,
      "outputs": [
        {
          "output_type": "stream",
          "text": [
            "83\n"
          ],
          "name": "stdout"
        }
      ]
    },
    {
      "cell_type": "code",
      "metadata": {
        "id": "nceeoP7_8SPC",
        "outputId": "e51bee27-1289-48d1-c112-4d9fc346fc49",
        "colab": {
          "base_uri": "https://localhost:8080/"
        }
      },
      "source": [
        "sum([x[1] for x in score_sort if x[1] > 35])"
      ],
      "execution_count": 206,
      "outputs": [
        {
          "output_type": "execute_result",
          "data": {
            "text/plain": [
              "40"
            ]
          },
          "metadata": {
            "tags": []
          },
          "execution_count": 206
        }
      ]
    },
    {
      "cell_type": "code",
      "metadata": {
        "id": "PJdc4v-I8R8Y"
      },
      "source": [
        ""
      ],
      "execution_count": null,
      "outputs": []
    },
    {
      "cell_type": "code",
      "metadata": {
        "id": "0Jazc8-57_sY",
        "outputId": "9289b881-dffc-405a-9492-a1eb8e4c1d86",
        "colab": {
          "base_uri": "https://localhost:8080/"
        }
      },
      "source": [
        "len(score_sort)"
      ],
      "execution_count": 203,
      "outputs": [
        {
          "output_type": "execute_result",
          "data": {
            "text/plain": [
              "4"
            ]
          },
          "metadata": {
            "tags": []
          },
          "execution_count": 203
        }
      ]
    },
    {
      "cell_type": "code",
      "metadata": {
        "id": "3h0p4YqIzNUn",
        "outputId": "6eeda401-0bfb-42f4-bc95-6b942e972792",
        "colab": {
          "base_uri": "https://localhost:8080/"
        }
      },
      "source": [
        "# User memasukkan nama gejala\n",
        "# gejala = 'masuk angin', 'gangguan sistem pernafasan'\n",
        "gejala = ['masuk angin', 'gangguan sistem pernafasan']\n",
        "\n",
        "# hitung fitness X[0] = [1 0 1 0 0 0 0 0 1 0 1 0 0 0]\n",
        "theshold_score = 70\n",
        "print(X[0])\n",
        "init_fitness = 0\n",
        "for i in range(len(gejala)):\n",
        "  print(i)\n",
        "  for j in range(14):\n",
        "    if X[0][j] ==1:\n",
        "      print('--',j)\n",
        "      score_sort = process.extract(gejala[i], df_token.iloc[j,1], scorer=fuzz.token_set_ratio)\n",
        "      init_fitness += sum([x_[1] for x_ in score_sort if x_[1] > theshold_score])\n",
        "fitness = init_fitness\n",
        "print(fitness)"
      ],
      "execution_count": 210,
      "outputs": [
        {
          "output_type": "stream",
          "text": [
            "[1 0 1 0 0 0 0 0 1 0 1 0 0 0]\n",
            "0\n",
            "-- 0\n",
            "-- 2\n",
            "-- 8\n",
            "-- 10\n",
            "1\n",
            "-- 0\n",
            "-- 2\n",
            "-- 8\n",
            "-- 10\n",
            "200\n"
          ],
          "name": "stdout"
        }
      ]
    },
    {
      "cell_type": "code",
      "metadata": {
        "id": "p5ErQvQM58op"
      },
      "source": [
        "score_sort = [(x,) + i\n",
        "             for x in unique_brand \n",
        "             for i in process.extract(x, unique_brand,     scorer=fuzz.token_sort_ratio)]"
      ],
      "execution_count": null,
      "outputs": []
    },
    {
      "cell_type": "code",
      "metadata": {
        "id": "zOYnEaJ43041",
        "outputId": "eeae1e76-1da7-46d6-b3b7-54d97d937bd2",
        "colab": {
          "base_uri": "https://localhost:8080/"
        }
      },
      "source": [
        "X = myrandfloat(2,14,0,1).round(0).astype(np.int)\n",
        "print(len(X[0]))"
      ],
      "execution_count": 184,
      "outputs": [
        {
          "output_type": "stream",
          "text": [
            "14\n"
          ],
          "name": "stdout"
        }
      ]
    },
    {
      "cell_type": "code",
      "metadata": {
        "id": "12I6Etu330n6"
      },
      "source": [
        ""
      ],
      "execution_count": null,
      "outputs": []
    },
    {
      "cell_type": "code",
      "metadata": {
        "id": "zol_NkXw30Zj"
      },
      "source": [
        ""
      ],
      "execution_count": null,
      "outputs": []
    },
    {
      "cell_type": "code",
      "metadata": {
        "id": "k0Y8KXkC58cl"
      },
      "source": [
        ""
      ],
      "execution_count": null,
      "outputs": []
    },
    {
      "cell_type": "code",
      "metadata": {
        "id": "yM1nrSjzR_du"
      },
      "source": [
        "import os\n",
        "import numpy as np\n",
        "import math\n",
        "import matplotlib.pyplot as plt\n",
        "from matplotlib import style\n",
        "import humanize\n",
        "from datetime import datetime, timezone\n",
        "from time import gmtime, strftime\n",
        "import pytz\n",
        "import csv\n",
        "from itertools import zip_longest\n",
        "import random\n",
        "\n",
        "#Set nilai parameter\n",
        "panjang_bit = 14\n",
        "# gejala = ['masuk angin', 'gangguan sistem pernafasan']\n",
        "gejala = ['demam', 'gangguan sistem pernafasan']\n",
        "\n",
        "def myrandfloat(mbaris,nkolom,lower,upper):\n",
        "  #BatasRANDplusOne=10000\n",
        "  BatasRANDplusOne=max(10000,2*np.math.ceil(upper))\n",
        "  #mbaris=1\n",
        "  #nkolom=1\n",
        "  Rand_Sample=np.random.randint(BatasRANDplusOne,size=(mbaris,nkolom))\n",
        "  min_Rand_Sample = 0\n",
        "  max_Rand_Sample = BatasRANDplusOne - 1\n",
        "  upper_boundary= upper\n",
        "  lower_boundary= lower\n",
        "  normalize_Rand_Sample_minMax=(((Rand_Sample-min_Rand_Sample)/(max_Rand_Sample-min_Rand_Sample))*(upper_boundary-lower_boundary))+lower_boundary\n",
        "  return normalize_Rand_Sample_minMax\n",
        "\n",
        "\n",
        "def flatten(A):\n",
        "    rt = []\n",
        "    for i in A:\n",
        "        if isinstance(i,list): rt.extend(flatten(i))\n",
        "        else: rt.append(i)\n",
        "    return rt\n",
        "\n",
        "def bool2int(x):\n",
        "    y = 0\n",
        "    len_ = len(x)\n",
        "    for i,j in enumerate(x):\n",
        "        y += j*(2**(len_ - (i+1)))\n",
        "    return y\n",
        "\n",
        "def Hitung_Fitness(np_partikel):\n",
        "  # hitung fitness\n",
        "  # -x2+14x–13\n",
        "  #x = bool2int(np_partikel)\n",
        "  #fitness = -(x**2) + 14*x - 13\n",
        "  theshold_score = 70\n",
        "  #print(X[0])\n",
        "  #X[0] = np_partikel.copy()\n",
        "  init_fitness = 0\n",
        "  for i in range(len(gejala)):\n",
        "    #print(i)\n",
        "    for j in range(14):\n",
        "      if np_partikel[j] ==1:\n",
        "        #print('--',j)\n",
        "        score_sort = process.extract(gejala[i], df_token.iloc[j,1], scorer=fuzz.token_set_ratio)\n",
        "        init_fitness += sum([x_[1] for x_ in score_sort if x_[1] > theshold_score])\n",
        "  fitness = init_fitness\n",
        "  #print(fitness)\n",
        "\n",
        "\n",
        "  return fitness\n",
        "\n",
        "def FnGetFitnessIPSODL(X_or_P_or_G):\n",
        "  # pop_size=size(X_or_P_or_G,1);\n",
        "  pop_size = X_or_P_or_G.shape[0]\n",
        "  # Fitness=zeros(pop_size,1);\n",
        "  Fitness = myrandfloat(pop_size,1,0,0).flatten()\n",
        "\n",
        "  # for i=1:pop_size\n",
        "  for i in range(pop_size):\n",
        "    # Fitness[i]=1/FnArsitekPSODLCNNeLM(X_or_P_or_G(i,:))\n",
        "    Fitness[i] = Hitung_Fitness(X_or_P_or_G[i])\n",
        "\n",
        "  # % mencari indexsorting secara descending\n",
        "  IndexAwal = myrandfloat(pop_size,1,0,0).astype('int64').flatten()\n",
        "  for i in range(pop_size):\n",
        "    IndexAwal[i] = i\n",
        "\n",
        "  FitnessAwal= Fitness.copy()\n",
        "\n",
        "  for i in range(pop_size):\n",
        "    TempNilaiFx = Fitness[i].copy()\n",
        "    TempIndexAwal = IndexAwal[i].copy()\n",
        "    # for j=i+1:pop_size\n",
        "    for j in range(i+1,pop_size):\n",
        "      if (Fitness[j] > TempNilaiFx):\n",
        "        TempNilaiFx = Fitness[j].copy()\n",
        "        Fitness[j] = Fitness[i].copy()\n",
        "        Fitness[i] = TempNilaiFx.copy()\n",
        "        TempIndexAwal = IndexAwal[j].copy()\n",
        "        IndexAwal[j] = IndexAwal[i].copy()\n",
        "        IndexAwal[i] = TempIndexAwal.copy()\n",
        "\n",
        "  # %[FitnessAwal Fitness];\n",
        "  # %IndexAwal;\n",
        "\n",
        "  IndexSortingDesc = IndexAwal.copy()\n",
        "  return FitnessAwal,IndexSortingDesc\n",
        "\n",
        "def FnGetFitnessNbestIndividuIPSODL(X_or_P_or_G):\n",
        "  # pop_size=size(X_or_P_or_G,1);\n",
        "  pop_size = X_or_P_or_G.shape[0]\n",
        "  # Best_Partikel=zeros(1,size(X_or_P_or_G,2));\n",
        "\n",
        "  # FitnessAll=zeros(pop_size,1);\n",
        "  FitnessAll = myrandfloat(pop_size,1,0,0).flatten()\n",
        "\n",
        "  for i in range(pop_size):\n",
        "    FitnessAll[i] = Hitung_Fitness(X_or_P_or_G[i])\n",
        "\n",
        "  # % mengambil X_or_P_or_G yang fitness-nya terbaik\n",
        "  FitnessGbest = max(FitnessAll)\n",
        "  index_Gbest = np.argmax(FitnessAll)\n",
        "  Gbest = X_or_P_or_G[index_Gbest].copy()\n",
        "\n",
        "  return FitnessAll,FitnessGbest,Gbest\n",
        "\n",
        "def FnUpdatePbestGbestIPSODL(FitnessAllPbestOld,FitnessAllXbaru,FitnessGbestOld,Xbaru,PbestOld,GbestOld):\n",
        "  Update_Pbest = PbestOld.copy()\n",
        "  FitnessAll_Update_Pbest = FitnessAllPbestOld.copy()\n",
        "\n",
        "  FitnessAllPbestOld_minus_FitnessAllXbaru = \\\n",
        "  FitnessAllPbestOld-FitnessAllXbaru\n",
        "\n",
        "  # % jika nilai selisih negatif, maka nilai Fitness pada Xbaru lebih besar\n",
        "  # % mencari indek yang nilai selisihnya negatif\n",
        "  idx_selisih_negatif = np.where(FitnessAllPbestOld_minus_FitnessAllXbaru<0)\n",
        "\n",
        "  # idx_find_neg = np.where(a5 < 0)\n",
        "  # print(np.array(idx_selisih_negatif).shape[1])\n",
        "\n",
        "  if(np.array(idx_selisih_negatif).shape[1] > 0):\n",
        "    Update_Pbest[idx_selisih_negatif] = Xbaru[idx_selisih_negatif].copy()\n",
        "    FitnessAll_Update_Pbest[idx_selisih_negatif] = FitnessAllXbaru[idx_selisih_negatif].copy()\n",
        "\n",
        "  # % mencari nilai_MaxFitness dan indexnya dari FitnessAll_Update_Pbest\n",
        "  nilai_MaxFitness,index_MaxFitness=max(FitnessAll_Update_Pbest),np.argmax(FitnessAll_Update_Pbest)\n",
        "  Calon_Gbest = Update_Pbest[index_MaxFitness].copy()\n",
        "\n",
        "  # idx,value = np.argmax(a5),max(a5)\n",
        "\n",
        "  FitnessCalon_Gbest = nilai_MaxFitness.copy()\n",
        "\n",
        "  # % membandingkan Calon_Gbest dengan GbestOld dari nilai fitness-nya\n",
        "  if(FitnessCalon_Gbest>FitnessGbestOld):\n",
        "    Fitness_Update_Gbest = FitnessCalon_Gbest.copy()\n",
        "    Update_Gbest = Calon_Gbest.copy()\n",
        "  else:\n",
        "    Fitness_Update_Gbest = FitnessGbestOld.copy()\n",
        "    Update_Gbest = GbestOld.copy()\n",
        "\n",
        "  return FitnessAll_Update_Pbest,Fitness_Update_Gbest,Update_Pbest,Update_Gbest\n",
        "\n",
        "def FnMyIPSO_DLeLM_UjiKonv(IterMaxPSO,pop_size,panjang_bit):\n",
        "\n",
        "  # %% Tentang PTVPSO (Chen, Hui, Ling, at all, 2011)\n",
        "  # % Algoritma particle swarm optimization (PSO) \n",
        "  # % merupakan algoritma optimasi yang pertama kali dikenalkan oleh Kennedy \n",
        "  # % dan Eberhart pada tahun 1995.\n",
        "  # % \n",
        "  # % Time variant yang digunakan adalah \n",
        "  # % time varying acceleration coefficients (TVAC) dan \n",
        "  # % time varying inertia weight (TVIW) Dimana,\n",
        "  # % TVIW (wmin = 0.4 dan wmax = 0.9) \n",
        "  # % Nilai range c1 dan c2 (TVAC) yang digunakan adalah \n",
        "  # % (c1i=2.5, c1f=0.5) dan c2i=0.5, c2f=2.5) karena terbukti optimal. \n",
        "  # % c1 dan c2 (cognitive dan social components).\n",
        "  # % w (bobot inersia), d (banyaknya dimensi data, \n",
        "  # % atau banyaknya fitur data), tmax (iterasi max.)\n",
        "  # % ----------------------------------------------------------------------\n",
        "\n",
        "  # %% koding PSO\n",
        "  # % ========================================\n",
        "  wmin=0.4\n",
        "  wmax=0.9\n",
        "  c1i=2.5 \n",
        "  c1f=0.5\n",
        "  c2i=0.5\n",
        "  c2f=2.5\n",
        "  tmax = IterMaxPSO\n",
        "\n",
        "  # byk_dim_data_input = 10\n",
        "  # %% Batas Bawah dan Batas Atas Parameter yang dioptimasi, untuk X\n",
        "  # SLCcLR_lower = [k_padding_lower FC1_Wjk_lower FC2_Wjk_lower FC3_Wjk_lower];\n",
        "  # SLCcLR_upper = [k_padding_upper FC1_Wjk_upper FC2_Wjk_upper FC3_Wjk_upper];\n",
        "\n",
        "  SLCcLR_lower = myrandfloat(panjang_bit,1,0,0).flatten()\n",
        "  SLCcLR_upper = myrandfloat(panjang_bit,1,1,1).flatten()\n",
        "\n",
        "  byk_dimensi=panjang_bit\n",
        "\n",
        "  # % replika matrik, dari satu baris menjadi barisnya sebanyak pop_size\n",
        "  repmat_SLCcLR_lower = SLCcLR_lower.copy()\n",
        "  repmat_SLCcLR_upper = SLCcLR_upper.copy()\n",
        "\n",
        "  # hitung delta\n",
        "  SLCcLR_delta = SLCcLR_upper - SLCcLR_lower\n",
        "  repmat_SLCcLR_delta = SLCcLR_delta.copy()\n",
        "\n",
        "  # %% Batas Bawah dan Batas Atas Parameter yang dioptimasi, untuk V\n",
        "  prosentase_V = 0.6\n",
        "  V_SLCcLR_lower = -prosentase_V*SLCcLR_upper\n",
        "  V_SLCcLR_upper = prosentase_V*SLCcLR_upper\n",
        "\n",
        "  # % replika matrik, dari satu baris menjadi barisnya sebanyak pop_size\n",
        "  repmat_V_SLCcLR_lower = V_SLCcLR_lower.copy()\n",
        "  repmat_V_SLCcLR_upper = V_SLCcLR_upper.copy()\n",
        "\n",
        "\n",
        "  # %% Generate populasi awal\n",
        "  # % init size\n",
        "  X = myrandfloat(pop_size,byk_dimensi,0,0)\n",
        "  V = myrandfloat(pop_size,byk_dimensi,0,0)\n",
        "  Pbest = myrandfloat(pop_size,byk_dimensi,0,0)\n",
        "  Gbest = myrandfloat(1,byk_dimensi,0,0)\n",
        "\n",
        "  MeanFitness = myrandfloat(IterMaxPSO,1,0,0).flatten()\n",
        "  MaxFitness = MeanFitness.copy()\n",
        "\n",
        "  # for t=0:IterMaxPSO\n",
        "  for t in range(IterMaxPSO):\n",
        "    # print('iter = ', t)    \n",
        "    # % hitung nilai w, c1, c2, r1, r2\n",
        "    w = wmin + ((wmax-wmin)*((tmax-t)/tmax))\n",
        "    c1 = ((c1f-c1i)*(t/tmax)) + c1i\n",
        "    c2 = ((c2f-c2i)*(t/tmax)) + c2i\n",
        "    # r1 = rand(1,1); % random [0,1] dengan distribusi uniform\n",
        "    r1 = myrandfloat(1,1,0,1).flatten()[0]\n",
        "    r2 = myrandfloat(1,1,0,1).flatten()[0]\n",
        "    \n",
        "    if(t==0):         \n",
        "      # % inisialisasi posisi awal\n",
        "      X = repmat_SLCcLR_lower + myrandfloat(pop_size,byk_dimensi,0,1).round(0).astype(np.int)*repmat_SLCcLR_delta\n",
        "      print(X)\n",
        "      \n",
        "      # % inisialisasi kecepatan awal\n",
        "      # V;\n",
        "      \n",
        "      # % inisialisasi Pbest dan Gbest\n",
        "      Pbest = X.copy()\n",
        "      FitnessAllPbest,FitnessGbest,Gbest = \\\n",
        "      FnGetFitnessNbestIndividuIPSODL(Pbest)\n",
        "        \n",
        "    else:\n",
        "      # % update kecepatan \n",
        "      V = (w*V)+(c1*r1*(Pbest-X))+(c2*r2*(Gbest-X))\n",
        "      V = np.clip(V,repmat_V_SLCcLR_lower,repmat_V_SLCcLR_upper)\n",
        "      \n",
        "      # % update posisi\n",
        "      X = X + V\n",
        "      X = np.clip(X,repmat_SLCcLR_lower,repmat_SLCcLR_upper)\n",
        "      \n",
        "      # % hitung nilai fitness X\n",
        "      FitnessAllX,IndexSortingDesc = FnGetFitnessIPSODL(X)\n",
        "      \n",
        "      # % update Pbest dan Gbest\n",
        "      FitnessAll_Update_Pbest,Fitness_Update_Gbest,Update_Pbest,Update_Gbest = \\\n",
        "      FnUpdatePbestGbestIPSODL(FitnessAllPbest,FitnessAllX,FitnessGbest,X,Pbest,Gbest)\n",
        "\n",
        "      FitnessAllPbest = FitnessAll_Update_Pbest.copy()\n",
        "      FitnessGbest = Fitness_Update_Gbest.copy()\n",
        "      Pbest = Update_Pbest.copy()\n",
        "      Gbest = Update_Gbest.copy()\n",
        "      \n",
        "      # % simpan rata-rata dan max fitness tiap iterasi\n",
        "      MeanFitness[t] = np.mean(FitnessAllPbest)\n",
        "      MaxFitness[t] = max(FitnessAllPbest)\n",
        "\n",
        "      # coba random injection\n",
        "      if(t%5==0):\n",
        "        # byk partikel yang direplace untuk di-injection\n",
        "        byk_partikel_rand_injection = int(0.2*pop_size)\n",
        "        \n",
        "        X[IndexSortingDesc[pop_size-byk_partikel_rand_injection:]] = \\\n",
        "        repmat_SLCcLR_lower + myrandfloat(byk_partikel_rand_injection,byk_dimensi,0,1)*repmat_SLCcLR_delta\n",
        "\n",
        "        # % hitung nilai fitness X\n",
        "        FitnessAllX,IndexSortingDesc = FnGetFitnessIPSODL(X)\n",
        "        \n",
        "        # % update Pbest dan Gbest\n",
        "        FitnessAll_Update_Pbest,Fitness_Update_Gbest,Update_Pbest,Update_Gbest = \\\n",
        "        FnUpdatePbestGbestIPSODL(FitnessAllPbest,FitnessAllX,FitnessGbest,X,Pbest,Gbest)\n",
        "            \n",
        "        FitnessAllPbest = FitnessAll_Update_Pbest.copy()\n",
        "        FitnessGbest = Fitness_Update_Gbest.copy()\n",
        "        Pbest = Update_Pbest.copy()\n",
        "        Gbest = Update_Gbest.copy()\n",
        "\n",
        "  print()\n",
        "\n",
        "  # % menampilkan individu terbaik dan nilai Akurasinya\n",
        "  print('Gbest', Gbest.round(0))\n",
        "  print('FitnessGbest', FitnessGbest.round(0))\n",
        "\n",
        "  print()\n",
        "\n",
        "  # menampilkan y_topi dari Gbest\n",
        "  np_partikel_test = Gbest\n",
        "  get_fitness = Hitung_Fitness(np_partikel_test)\n",
        "\n",
        "  #print('get_y_topi = ', get_y_topi.value.flatten().round(2))\n",
        "  # print('get_y_topi after np.clip [0;1] = ', np.clip(get_y_topi.value.flatten(),0,1).round(2))\n",
        "  # print('Fitness = ', get_fitness.round(2))\n",
        "  # print('Fitness = ', get_fitness)\n",
        "\n",
        "  print()\n",
        "  print('Done....! :D ')\n",
        "  return Gbest,FitnessGbest,MeanFitness,MaxFitness\n",
        "\n",
        "# end code part 5"
      ],
      "execution_count": 225,
      "outputs": []
    },
    {
      "cell_type": "code",
      "metadata": {
        "id": "yk7jM0C9RtRj",
        "outputId": "e1b359a4-6e2b-49d3-846a-b8e300fe9f2f",
        "colab": {
          "base_uri": "https://localhost:8080/",
          "height": 1000
        }
      },
      "source": [
        "# Melakukan pengujian konvergensi PSO dengan FnMyIPSO_DLeLM_UjiKonv +\n",
        "# Simpan hasil dalam csv dan grafik fitness dlm *.jpg\n",
        "# \n",
        "# nCoba = 10\n",
        "# IterMaxPSO = 500\n",
        "# pop_size = 50\n",
        "\n",
        "nCoba = 5\n",
        "IterMaxPSO = 100\n",
        "pop_size = 5\n",
        "\n",
        "# get_Gbest_cell =np.zeros((nCoba,),dtype=np.object)\n",
        "# kesetaraan cell dgn dict\n",
        "get_all_Gbest_on_cell={}\n",
        "get_all_FitnessGbest_on_cell={}\n",
        "get_all_MeanFitness_on_cell={}\n",
        "get_all_MaxFitness_on_cell={}\n",
        "\n",
        "# get_best_of_the_best_from_all =np.zeros((nCoba,),dtype=np.object)\n",
        "get_best_of_the_best_from_all={}\n",
        "\n",
        "for i in range(nCoba):\n",
        "  get_all_Gbest_on_cell[i],\\\n",
        "  get_all_FitnessGbest_on_cell[i],\\\n",
        "  get_all_MeanFitness_on_cell[i],\\\n",
        "  get_all_MaxFitness_on_cell[i] = \\\n",
        "  FnMyIPSO_DLeLM_UjiKonv(IterMaxPSO,pop_size,panjang_bit)\n",
        "\n",
        "  #get best of the best from all Gbest (included fitness nya)\n",
        "  # get_best_of_the_best_from_all[i]={}\n",
        "  if i==0:\n",
        "    get_best_of_the_best_from_all['Gbest'] = get_all_Gbest_on_cell[i]\n",
        "    get_best_of_the_best_from_all['FitnessGbest'] = [get_all_FitnessGbest_on_cell[i]]\n",
        "  else:\n",
        "    if(get_best_of_the_best_from_all['FitnessGbest'][0] < get_all_FitnessGbest_on_cell[i]):\n",
        "      get_best_of_the_best_from_all['Gbest'] = get_all_Gbest_on_cell[i]\n",
        "      get_best_of_the_best_from_all['FitnessGbest'] = [get_all_FitnessGbest_on_cell[i]]\n",
        "\n",
        "print()\n",
        "print('Get best of the best from all Gbest (included fitness nya):')\n",
        "print('-----'*20)\n",
        "print('Gbest = ',get_best_of_the_best_from_all['Gbest'].round(0))\n",
        "# print('Gbest dlm basis 10 = ',bool2int(get_best_of_the_best_from_all['Gbest'].astype(np.int)))\n",
        "print()\n",
        "\n",
        "# Decode Recomendasi Herbal\n",
        "print(\"Decode Rekomendasi Herbal:\")\n",
        "theshold_score = 70\n",
        "all_init_sub_fitness = []\n",
        "for i_Herb in range(panjang_bit):\n",
        "  if(get_best_of_the_best_from_all['Gbest'].round(0)[i_Herb]==1):\n",
        "    init_sub_fitness = 0\n",
        "    for j_gejala in range(len(gejala)):\n",
        "      score_sort = process.extract(gejala[j_gejala], df_token.iloc[i_Herb,1], scorer=fuzz.token_set_ratio)\n",
        "      init_sub_fitness += sum([x_[1] for x_ in score_sort if x_[1] > theshold_score])\n",
        "    print(df_token.iloc[i_Herb,0],\"(\",str(init_sub_fitness),\")\",\" \")\n",
        "  all_init_sub_fitness.append(init_sub_fitness)\n",
        "\n",
        "print()\n",
        "print(\"Herbal dengan score tertinggi\")\n",
        "# a.index(max(a))\n",
        "print(df_token.iloc[all_init_sub_fitness.index(max(all_init_sub_fitness)),0])\n",
        "\n",
        "print()\n",
        "print('FitnessGbest = ',get_best_of_the_best_from_all['FitnessGbest'][0].round(0))\n",
        "\n",
        "print()\n",
        "\n",
        "# ---------------------------------------------\n",
        "\n",
        "# Buat Folder, dgn name_unik_path2save utk simpan hasil style transfer dan total loss-nya\n",
        "name_unik_path2save = str(datetime.today().astimezone(pytz.timezone('Asia/Jakarta')).strftime('%d-%m-%Y-%H-%M-%S'))\n",
        "# import os\n",
        "# os.chdir(\"/content/drive/My Drive\")\n",
        "if not os.path.exists('./testing of convergence/'+name_unik_path2save):\n",
        "  os.makedirs('./testing of convergence/'+name_unik_path2save)\n",
        "  #print('Path blm ada')\n",
        "else:\n",
        "  print('Path sdh ada')\n",
        "# os.chdir(\"/content/drive/My Drive/KeStar_Algorithm\")\n",
        "# !pwd\n",
        "\n",
        "# set info_param\n",
        "# nt mewakili parameter nCoba\n",
        "# it mewakili parameter IterMaxPSO\n",
        "# po mewakili pop_size\n",
        "# gyf mewakili best of the best dari Gbest, lalu Fitness\n",
        "info_param = 'nt-'+str(nCoba)+'-it-'+str(IterMaxPSO)+'-po-' \\\n",
        "+str(pop_size)+'-gyf'\n",
        "\n",
        "nama_path_hasil = './testing of convergence/'+name_unik_path2save+'/'\n",
        "nama_file_jpg_MeanFitness = nama_path_hasil+info_param+'_MeanFitness.jpg'\n",
        "style.use('ggplot')\n",
        "fig, ax = plt.subplots(figsize=(12, 6))    \n",
        "plt.title(\"Testing Result of Convergence (Mean Fitness)\")\n",
        "plt.xlabel(\"Iterations\")\n",
        "plt.ylabel(\"Fitness\")\n",
        "# plt.xlim(1,IterMaxPSO)\n",
        "# plt.xlim(1,len(get_all_MeanFitness_on_cell[0]))\n",
        "for loss,lab in zip(get_all_MeanFitness_on_cell,np.arange(nCoba)):\n",
        "  plt.plot(get_all_MeanFitness_on_cell[loss],label= humanize.ordinal(lab) +' Trial')\n",
        "  # plt.legend(loc='upper right')\n",
        "  plt.legend(loc='lower right')\n",
        "plt.savefig(nama_file_jpg_MeanFitness,dpi=100)\n",
        "plt.show()\n",
        "\n",
        "print()\n",
        "\n",
        "nama_file_jpg_MaxFitness = nama_path_hasil+info_param+'_Maxitness.jpg'\n",
        "style.use('ggplot')\n",
        "fig, ax = plt.subplots(figsize=(12, 6))    \n",
        "plt.title(\"Testing Result of Convergence (Max Fitness)\")\n",
        "plt.xlabel(\"Iterations\")\n",
        "plt.ylabel(\"Fitness\")\n",
        "# plt.xlim(1,IterMaxPSO)\n",
        "# plt.xlim(1,len(get_all_MeanFitness_on_cell[0]))\n",
        "for loss,lab in zip(get_all_MaxFitness_on_cell,np.arange(nCoba)):\n",
        "  plt.plot(get_all_MaxFitness_on_cell[loss],label= humanize.ordinal(lab) +' Trial')\n",
        "  # plt.legend(loc='upper right')\n",
        "  plt.legend(loc='lower right')\n",
        "plt.savefig(nama_file_jpg_MaxFitness,dpi=100)\n",
        "plt.show()\n",
        "\n",
        "plt.style.use('default')\n",
        "\n",
        "# Simpan Hasil Gbest Fitness , nantinya 'MeanFitness' dan 'MaxFitness' utk grafik evaluasi\n",
        "nama_file_csv_GFY = nama_path_hasil+info_param+'_Gbest_FitnessGbest.csv'\n",
        "# np.savetxt(nama_file_csv_GFY, get_best_of_the_best_from_all, fmt=\"%d\", delimiter=\",\")\n",
        "# np.savetxt('Gbest_FitnessGbest.csv', get_best_of_the_best_from_all, fmt=\"%d\", delimiter=\",\")\n",
        "\n",
        "nama_file_csv_MeanFitness= nama_path_hasil+info_param+'_MeanFitness.csv'\n",
        "# np.savetxt(nama_file_csv_MeanFitness, get_all_MeanFitness_on_cell, fmt=\"%d\", delimiter=\",\")\n",
        "# np.savetxt('MeanFitness.csv', get_all_MeanFitness_on_cell, fmt=\"%d\", delimiter=\",\")\n",
        "\n",
        "nama_file_csv_MaxFitness= nama_path_hasil+info_param+'_MaxFitness.csv'\n",
        "# np.savetxt(nama_file_csv_MaxFitness, get_all_MaxFitness_on_cell, fmt=\"%d\", delimiter=\",\")\n",
        "# np.savetxt('MaxFitness.csv', get_all_MaxFitness_on_cell, fmt=\"%d\", delimiter=\",\")\n",
        "\n",
        "# --------------------------\n",
        "# untuk Gbest_FitnessGbest\n",
        "# keys = sorted(get_best_of_the_best_from_all.keys())\n",
        "transposed_data = list(zip_longest(*get_best_of_the_best_from_all.values()))\n",
        "# with open('Gbest_FitnessGbest.csv', 'w', newline='') as f:\n",
        "with open(nama_file_csv_GFY, 'w', newline='') as f:\n",
        "  writer = csv.writer(f)\n",
        "  writer.writerow(get_best_of_the_best_from_all.keys())\n",
        "  # writer.writerow(keys)\n",
        "  for items in transposed_data:\n",
        "    writer.writerow(items)\n",
        "\n",
        "# untuk MeanFitness\n",
        "keys = sorted(get_all_MeanFitness_on_cell.keys())\n",
        "rename_header=[]\n",
        "for key in keys:\n",
        "  rename_header.append(str(humanize.ordinal(int(key))) +' Trial')\n",
        "transposed_data = list(zip_longest(*get_all_MeanFitness_on_cell.values()))\n",
        "# with open('MeanFitness.csv', 'w', newline='') as f:\n",
        "with open(nama_file_csv_MeanFitness, 'w', newline='') as f:\n",
        "  writer = csv.writer(f)\n",
        "  # coba rename header :D\n",
        "  writer.writerow(rename_header)\n",
        "  for items in transposed_data:\n",
        "    writer.writerow(items)\n",
        "\n",
        "# untuk MaxFitness\n",
        "keys = sorted(get_all_MaxFitness_on_cell.keys())\n",
        "rename_header=[]\n",
        "for key in keys:\n",
        "  rename_header.append(str(humanize.ordinal(int(key))) +' Trial')\n",
        "transposed_data = list(zip_longest(*get_all_MaxFitness_on_cell.values()))\n",
        "# with open('MaxFitness.csv', 'w', newline='') as f:\n",
        "with open(nama_file_csv_MaxFitness, 'w', newline='') as f:\n",
        "  writer = csv.writer(f)\n",
        "  # coba rename header :D\n",
        "  writer.writerow(rename_header)\n",
        "  for items in transposed_data:\n",
        "    writer.writerow(items)"
      ],
      "execution_count": 226,
      "outputs": [
        {
          "output_type": "stream",
          "text": [
            "[[1. 1. 1. 1. 0. 0. 1. 0. 0. 0. 1. 1. 1. 0.]\n",
            " [1. 1. 1. 0. 1. 1. 1. 0. 1. 1. 1. 1. 0. 0.]\n",
            " [0. 0. 0. 1. 1. 1. 0. 0. 1. 1. 0. 0. 1. 1.]\n",
            " [1. 0. 1. 1. 0. 0. 1. 0. 0. 1. 1. 1. 0. 1.]\n",
            " [0. 1. 1. 1. 0. 1. 0. 1. 1. 0. 1. 0. 1. 1.]]\n",
            "\n",
            "Gbest [0. 1. 1. 1. 0. 1. 0. 1. 1. 0. 1. 0. 1. 1.]\n",
            "FitnessGbest 500.0\n",
            "\n",
            "\n",
            "Done....! :D \n",
            "[[1. 1. 0. 0. 1. 0. 1. 1. 0. 0. 1. 0. 0. 0.]\n",
            " [1. 1. 1. 1. 1. 0. 1. 1. 1. 1. 1. 0. 0. 1.]\n",
            " [1. 1. 1. 1. 0. 0. 1. 0. 1. 1. 0. 0. 1. 1.]\n",
            " [0. 1. 1. 1. 1. 0. 0. 1. 0. 0. 0. 1. 0. 1.]\n",
            " [1. 0. 1. 1. 0. 0. 0. 0. 1. 1. 1. 0. 1. 1.]]\n",
            "\n",
            "Gbest [1. 1. 1. 1. 1. 0. 1. 1. 1. 1. 1. 0. 0. 1.]\n",
            "FitnessGbest 500.0\n",
            "\n",
            "\n",
            "Done....! :D \n",
            "[[0. 0. 0. 1. 1. 0. 1. 1. 1. 1. 1. 1. 1. 0.]\n",
            " [0. 0. 0. 0. 1. 0. 0. 1. 0. 1. 0. 1. 0. 1.]\n",
            " [0. 0. 0. 1. 1. 0. 0. 1. 1. 1. 0. 1. 1. 1.]\n",
            " [0. 1. 0. 0. 1. 0. 0. 1. 0. 1. 1. 1. 0. 0.]\n",
            " [1. 1. 0. 0. 0. 1. 0. 1. 1. 1. 0. 0. 0. 0.]]\n",
            "\n",
            "Gbest [0. 0. 0. 1. 1. 0. 1. 1. 1. 1. 1. 1. 1. 0.]\n",
            "FitnessGbest 500.0\n",
            "\n",
            "\n",
            "Done....! :D \n",
            "[[1. 1. 1. 1. 1. 1. 0. 0. 1. 1. 1. 0. 0. 1.]\n",
            " [1. 1. 1. 0. 1. 0. 0. 1. 0. 1. 0. 0. 1. 0.]\n",
            " [1. 0. 1. 1. 0. 0. 1. 1. 0. 0. 1. 1. 0. 0.]\n",
            " [0. 1. 1. 0. 1. 1. 1. 0. 0. 0. 1. 0. 1. 1.]\n",
            " [0. 0. 1. 1. 1. 0. 0. 0. 0. 0. 0. 1. 0. 1.]]\n",
            "\n",
            "Gbest [1. 0. 1. 1. 0. 0. 1. 1. 0. 0. 1. 1. 0. 0.]\n",
            "FitnessGbest 500.0\n",
            "\n",
            "\n",
            "Done....! :D \n",
            "[[0. 0. 1. 1. 0. 1. 0. 0. 1. 1. 1. 0. 1. 0.]\n",
            " [1. 1. 1. 0. 0. 1. 0. 1. 0. 0. 1. 1. 1. 1.]\n",
            " [0. 1. 0. 0. 0. 0. 1. 1. 0. 1. 1. 1. 0. 0.]\n",
            " [0. 1. 1. 1. 0. 1. 1. 1. 0. 1. 0. 0. 1. 1.]\n",
            " [1. 1. 0. 1. 1. 1. 1. 1. 0. 1. 1. 1. 1. 0.]]\n",
            "\n",
            "Gbest [0. 1. 1. 1. 0. 1. 1. 1. 0. 1. 0. 0. 1. 1.]\n",
            "FitnessGbest 500.0\n",
            "\n",
            "\n",
            "Done....! :D \n",
            "\n",
            "Get best of the best from all Gbest (included fitness nya):\n",
            "----------------------------------------------------------------------------------------------------\n",
            "Gbest =  [0. 1. 1. 1. 0. 1. 0. 1. 1. 0. 1. 0. 1. 1.]\n",
            "\n",
            "Decode Rekomendasi Herbal:\n",
            "madu ( 0 )  \n",
            "minyak kayu putih ( 0 )  \n",
            "dahan kayu india (kayu gaharu/ kemenyan/ dupa india ( 400 )  \n",
            "kurma ( 0 )  \n",
            "jahe (zanjabil) ( 100 )  \n",
            "minyak zaitun ( 0 )  \n",
            "daging hewan ( 0 )  \n",
            "semangka ( 0 )  \n",
            "bawang putih (at-tsaum) ( 0 )  \n",
            "\n",
            "Herbal dengan score tertinggi\n",
            "dahan kayu india (kayu gaharu/ kemenyan/ dupa india\n",
            "\n",
            "FitnessGbest =  500.0\n",
            "\n"
          ],
          "name": "stdout"
        },
        {
          "output_type": "display_data",
          "data": {
            "image/png": "[encoded data removed]",
            "text/plain": [
              "<Figure size 1200x600 with 1 Axes>"
            ]
          },
          "metadata": {
            "tags": []
          }
        },
        {
          "output_type": "stream",
          "text": [
            "\n"
          ],
          "name": "stdout"
        },
        {
          "output_type": "display_data",
          "data": {
            "image/png": "[encoded data removed]",
            "text/plain": [
              "<Figure size 1200x600 with 1 Axes>"
            ]
          },
          "metadata": {
            "tags": []
          }
        }
      ]
    },
    {
      "cell_type": "code",
      "metadata": {
        "id": "djPl5mua0JBr"
      },
      "source": [
        "# .."
      ],
      "execution_count": null,
      "outputs": []
    }
  ]
}